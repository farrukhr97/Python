{
  "nbformat": 4,
  "nbformat_minor": 0,
  "metadata": {
    "colab": {
      "provenance": []
    },
    "kernelspec": {
      "name": "python3",
      "display_name": "Python 3"
    },
    "language_info": {
      "name": "python"
    }
  },
  "cells": [
    {
      "cell_type": "code",
      "execution_count": null,
      "metadata": {
        "colab": {
          "base_uri": "https://localhost:8080/"
        },
        "id": "HH_q-y2SDaN-",
        "outputId": "3a7671fc-4123-46b1-bd53-f636d6bb784f"
      },
      "outputs": [
        {
          "output_type": "stream",
          "name": "stdout",
          "text": [
            "There once a man named Tom,\n",
            "he was50years old.\n",
            "He really liked the name Tom,\n",
            "didnt like being 50.\n",
            "There once a man named Dale,\n",
            "he was 50 years old.\n"
          ]
        }
      ],
      "source": [
        "character_name=\"Tom\"\n",
        "character_age = \"50\"\n",
        "print(\"There once a man named \"+character_name+\",\")\n",
        "print(\"he was\"+character_age+\"years old.\")\n",
        "print(\"He really liked the name \"+character_name+\",\")\n",
        "print(\"didnt like being \"+character_age+\".\")\n",
        "character_name=\"Dale\"\n",
        "print(\"There once a man named \"+character_name+\",\")\n",
        "print(\"he was \"+character_age+\" years old.\")"
      ]
    },
    {
      "cell_type": "code",
      "source": [],
      "metadata": {
        "id": "_EseliZ4DcPp"
      },
      "execution_count": null,
      "outputs": []
    }
  ]
}