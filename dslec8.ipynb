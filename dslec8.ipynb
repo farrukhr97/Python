{
  "nbformat": 4,
  "nbformat_minor": 0,
  "metadata": {
    "colab": {
      "provenance": []
    },
    "kernelspec": {
      "name": "python3",
      "display_name": "Python 3"
    },
    "language_info": {
      "name": "python"
    }
  },
  "cells": [
    {
      "cell_type": "code",
      "metadata": {
        "id": "qBw-d0jK0arp"
      },
      "source": [
        "import pandas as pd\n",
        "import numpy as np\n",
        "import matplotlib.pyplot as plt\n"
      ],
      "execution_count": null,
      "outputs": []
    },
    {
      "cell_type": "code",
      "metadata": {
        "colab": {
          "base_uri": "https://localhost:8080/"
        },
        "id": "ofmJ2SI7_N9D",
        "outputId": "9a63a661-4802-4141-ee25-60be363527ad"
      },
      "source": [
        "boston=pd.read_csv('/content/drive/MyDrive/Data/boston.csv')\n",
        "print(boston.head())\n"
      ],
      "execution_count": null,
      "outputs": [
        {
          "output_type": "stream",
          "text": [
            "      CRIM    ZN  INDUS  CHAS     NX  ...    TAX  PTRATIO       B  LSTAT  MEDV\n",
            "0  0.00632  18.0   2.31     0  0.538  ...  296.0     15.3  396.90   4.98  24.0\n",
            "1  0.02731   0.0   7.07     0  0.469  ...  242.0     17.8  396.90   9.14  21.6\n",
            "2  0.02729   0.0   7.07     0  0.469  ...  242.0     17.8  392.83   4.03  34.7\n",
            "3  0.03237   0.0   2.18     0  0.458  ...  222.0     18.7  394.63   2.94  33.4\n",
            "4  0.06905   0.0   2.18     0  0.458  ...  222.0     18.7  396.90   5.33  36.2\n",
            "\n",
            "[5 rows x 14 columns]\n"
          ],
          "name": "stdout"
        }
      ]
    },
    {
      "cell_type": "code",
      "metadata": {
        "id": "k55MuU2c-SqB"
      },
      "source": [
        "X=boston.drop('MEDV',axis=1).values\n",
        "Y=boston['MEDV'].values"
      ],
      "execution_count": null,
      "outputs": []
    },
    {
      "cell_type": "code",
      "metadata": {
        "colab": {
          "base_uri": "https://localhost:8080/"
        },
        "id": "zZPYdpJ_Bm9s",
        "outputId": "53b740e2-9799-48c9-96f2-15f6e349a342"
      },
      "source": [
        "X_rooms= X[:,5]\n",
        "type(X_rooms),type(Y)"
      ],
      "execution_count": null,
      "outputs": [
        {
          "output_type": "execute_result",
          "data": {
            "text/plain": [
              "(numpy.ndarray, numpy.ndarray)"
            ]
          },
          "metadata": {
            "tags": []
          },
          "execution_count": 32
        }
      ]
    },
    {
      "cell_type": "code",
      "metadata": {
        "colab": {
          "base_uri": "https://localhost:8080/"
        },
        "id": "hYVOJjPBCb_X",
        "outputId": "84f7db0f-e16f-4918-a577-34f79ce76c4f"
      },
      "source": [
        "X_rooms"
      ],
      "execution_count": null,
      "outputs": [
        {
          "output_type": "execute_result",
          "data": {
            "text/plain": [
              "array([6.575, 6.421, 7.185, 6.998, 7.147, 6.43 , 6.012, 6.172, 5.631,\n",
              "       6.004, 6.377, 6.009, 5.889, 5.949, 6.096, 5.834, 5.935, 5.99 ,\n",
              "       5.456, 5.727, 5.57 , 5.965, 6.142, 5.813, 5.924, 5.599, 5.813,\n",
              "       6.047, 6.495, 6.674, 5.713, 6.072, 5.95 , 5.701, 6.096, 5.933,\n",
              "       5.841, 5.85 , 5.966, 6.595, 7.024, 6.77 , 6.169, 6.211, 6.069,\n",
              "       5.682, 5.786, 6.03 , 5.399, 5.602, 5.963, 6.115, 6.511, 5.998,\n",
              "       5.888, 7.249, 6.383, 6.816, 6.145, 5.927, 5.741, 5.966, 6.456,\n",
              "       6.762, 7.104, 6.29 , 5.787, 5.878, 5.594, 5.885, 6.417, 5.961,\n",
              "       6.065, 6.245, 6.273, 6.286, 6.279, 6.14 , 6.232, 5.874, 6.727,\n",
              "       6.619, 6.302, 6.167, 6.389, 6.63 , 6.015, 6.121, 7.007, 7.079,\n",
              "       6.417, 6.405, 6.442, 6.211, 6.249, 6.625, 6.163, 8.069, 7.82 ,\n",
              "       7.416, 6.727, 6.781, 6.405, 6.137, 6.167, 5.851, 5.836, 6.127,\n",
              "       6.474, 6.229, 6.195, 6.715, 5.913, 6.092, 6.254, 5.928, 6.176,\n",
              "       6.021, 5.872, 5.731, 5.87 , 6.004, 5.961, 5.856, 5.879, 5.986,\n",
              "       5.613, 5.693, 6.431, 5.637, 6.458, 6.326, 6.372, 5.822, 5.757,\n",
              "       6.335, 5.942, 6.454, 5.857, 6.151, 6.174, 5.019, 5.403, 5.468,\n",
              "       4.903, 6.13 , 5.628, 4.926, 5.186, 5.597, 6.122, 5.404, 5.012,\n",
              "       5.709, 6.129, 6.152, 5.272, 6.943, 6.066, 6.51 , 6.25 , 7.489,\n",
              "       7.802, 8.375, 5.854, 6.101, 7.929, 5.877, 6.319, 6.402, 5.875,\n",
              "       5.88 , 5.572, 6.416, 5.859, 6.546, 6.02 , 6.315, 6.86 , 6.98 ,\n",
              "       7.765, 6.144, 7.155, 6.563, 5.604, 6.153, 7.831, 6.782, 6.556,\n",
              "       7.185, 6.951, 6.739, 7.178, 6.8  , 6.604, 7.875, 7.287, 7.107,\n",
              "       7.274, 6.975, 7.135, 6.162, 7.61 , 7.853, 8.034, 5.891, 6.326,\n",
              "       5.783, 6.064, 5.344, 5.96 , 5.404, 5.807, 6.375, 5.412, 6.182,\n",
              "       5.888, 6.642, 5.951, 6.373, 6.951, 6.164, 6.879, 6.618, 8.266,\n",
              "       8.725, 8.04 , 7.163, 7.686, 6.552, 5.981, 7.412, 8.337, 8.247,\n",
              "       6.726, 6.086, 6.631, 7.358, 6.481, 6.606, 6.897, 6.095, 6.358,\n",
              "       6.393, 5.593, 5.605, 6.108, 6.226, 6.433, 6.718, 6.487, 6.438,\n",
              "       6.957, 8.259, 6.108, 5.876, 7.454, 8.704, 7.333, 6.842, 7.203,\n",
              "       7.52 , 8.398, 7.327, 7.206, 5.56 , 7.014, 8.297, 7.47 , 5.92 ,\n",
              "       5.856, 6.24 , 6.538, 7.691, 6.758, 6.854, 7.267, 6.826, 6.482,\n",
              "       6.812, 7.82 , 6.968, 7.645, 7.923, 7.088, 6.453, 6.23 , 6.209,\n",
              "       6.315, 6.565, 6.861, 7.148, 6.63 , 6.127, 6.009, 6.678, 6.549,\n",
              "       5.79 , 6.345, 7.041, 6.871, 6.59 , 6.495, 6.982, 7.236, 6.616,\n",
              "       7.42 , 6.849, 6.635, 5.972, 4.973, 6.122, 6.023, 6.266, 6.567,\n",
              "       5.705, 5.914, 5.782, 6.382, 6.113, 6.426, 6.376, 6.041, 5.708,\n",
              "       6.415, 6.431, 6.312, 6.083, 5.868, 6.333, 6.144, 5.706, 6.031,\n",
              "       6.316, 6.31 , 6.037, 5.869, 5.895, 6.059, 5.985, 5.968, 7.241,\n",
              "       6.54 , 6.696, 6.874, 6.014, 5.898, 6.516, 6.635, 6.939, 6.49 ,\n",
              "       6.579, 5.884, 6.728, 5.663, 5.936, 6.212, 6.395, 6.127, 6.112,\n",
              "       6.398, 6.251, 5.362, 5.803, 8.78 , 3.561, 4.963, 3.863, 4.97 ,\n",
              "       6.683, 7.016, 6.216, 5.875, 4.906, 4.138, 7.313, 6.649, 6.794,\n",
              "       6.38 , 6.223, 6.968, 6.545, 5.536, 5.52 , 4.368, 5.277, 4.652,\n",
              "       5.   , 4.88 , 5.39 , 5.713, 6.051, 5.036, 6.193, 5.887, 6.471,\n",
              "       6.405, 5.747, 5.453, 5.852, 5.987, 6.343, 6.404, 5.349, 5.531,\n",
              "       5.683, 4.138, 5.608, 5.617, 6.852, 5.757, 6.657, 4.628, 5.155,\n",
              "       4.519, 6.434, 6.782, 5.304, 5.957, 6.824, 6.411, 6.006, 5.648,\n",
              "       6.103, 5.565, 5.896, 5.837, 6.202, 6.193, 6.38 , 6.348, 6.833,\n",
              "       6.425, 6.436, 6.208, 6.629, 6.461, 6.152, 5.935, 5.627, 5.818,\n",
              "       6.406, 6.219, 6.485, 5.854, 6.459, 6.341, 6.251, 6.185, 6.417,\n",
              "       6.749, 6.655, 6.297, 7.393, 6.728, 6.525, 5.976, 5.936, 6.301,\n",
              "       6.081, 6.701, 6.376, 6.317, 6.513, 6.209, 5.759, 5.952, 6.003,\n",
              "       5.926, 5.713, 6.167, 6.229, 6.437, 6.98 , 5.427, 6.162, 6.484,\n",
              "       5.304, 6.185, 6.229, 6.242, 6.75 , 7.061, 5.762, 5.871, 6.312,\n",
              "       6.114, 5.905, 5.454, 5.414, 5.093, 5.983, 5.983, 5.707, 5.926,\n",
              "       5.67 , 5.39 , 5.794, 6.019, 5.569, 6.027, 6.593, 6.12 , 6.976,\n",
              "       6.794, 6.03 ])"
            ]
          },
          "metadata": {
            "tags": []
          },
          "execution_count": 33
        }
      ]
    },
    {
      "cell_type": "code",
      "metadata": {
        "id": "xsDcPb-GC8Lx"
      },
      "source": [
        "Y=Y.reshape(-1,1)\n",
        "X_rooms=X_rooms.reshape(-1,1)"
      ],
      "execution_count": null,
      "outputs": []
    },
    {
      "cell_type": "code",
      "metadata": {
        "colab": {
          "base_uri": "https://localhost:8080/"
        },
        "id": "1PU-oFFNEDn5",
        "outputId": "04b70d60-46fb-4fe9-f14b-0b4eae7e7c9b"
      },
      "source": [
        "X_rooms"
      ],
      "execution_count": null,
      "outputs": [
        {
          "output_type": "execute_result",
          "data": {
            "text/plain": [
              "array([[6.575],\n",
              "       [6.421],\n",
              "       [7.185],\n",
              "       [6.998],\n",
              "       [7.147],\n",
              "       [6.43 ],\n",
              "       [6.012],\n",
              "       [6.172],\n",
              "       [5.631],\n",
              "       [6.004],\n",
              "       [6.377],\n",
              "       [6.009],\n",
              "       [5.889],\n",
              "       [5.949],\n",
              "       [6.096],\n",
              "       [5.834],\n",
              "       [5.935],\n",
              "       [5.99 ],\n",
              "       [5.456],\n",
              "       [5.727],\n",
              "       [5.57 ],\n",
              "       [5.965],\n",
              "       [6.142],\n",
              "       [5.813],\n",
              "       [5.924],\n",
              "       [5.599],\n",
              "       [5.813],\n",
              "       [6.047],\n",
              "       [6.495],\n",
              "       [6.674],\n",
              "       [5.713],\n",
              "       [6.072],\n",
              "       [5.95 ],\n",
              "       [5.701],\n",
              "       [6.096],\n",
              "       [5.933],\n",
              "       [5.841],\n",
              "       [5.85 ],\n",
              "       [5.966],\n",
              "       [6.595],\n",
              "       [7.024],\n",
              "       [6.77 ],\n",
              "       [6.169],\n",
              "       [6.211],\n",
              "       [6.069],\n",
              "       [5.682],\n",
              "       [5.786],\n",
              "       [6.03 ],\n",
              "       [5.399],\n",
              "       [5.602],\n",
              "       [5.963],\n",
              "       [6.115],\n",
              "       [6.511],\n",
              "       [5.998],\n",
              "       [5.888],\n",
              "       [7.249],\n",
              "       [6.383],\n",
              "       [6.816],\n",
              "       [6.145],\n",
              "       [5.927],\n",
              "       [5.741],\n",
              "       [5.966],\n",
              "       [6.456],\n",
              "       [6.762],\n",
              "       [7.104],\n",
              "       [6.29 ],\n",
              "       [5.787],\n",
              "       [5.878],\n",
              "       [5.594],\n",
              "       [5.885],\n",
              "       [6.417],\n",
              "       [5.961],\n",
              "       [6.065],\n",
              "       [6.245],\n",
              "       [6.273],\n",
              "       [6.286],\n",
              "       [6.279],\n",
              "       [6.14 ],\n",
              "       [6.232],\n",
              "       [5.874],\n",
              "       [6.727],\n",
              "       [6.619],\n",
              "       [6.302],\n",
              "       [6.167],\n",
              "       [6.389],\n",
              "       [6.63 ],\n",
              "       [6.015],\n",
              "       [6.121],\n",
              "       [7.007],\n",
              "       [7.079],\n",
              "       [6.417],\n",
              "       [6.405],\n",
              "       [6.442],\n",
              "       [6.211],\n",
              "       [6.249],\n",
              "       [6.625],\n",
              "       [6.163],\n",
              "       [8.069],\n",
              "       [7.82 ],\n",
              "       [7.416],\n",
              "       [6.727],\n",
              "       [6.781],\n",
              "       [6.405],\n",
              "       [6.137],\n",
              "       [6.167],\n",
              "       [5.851],\n",
              "       [5.836],\n",
              "       [6.127],\n",
              "       [6.474],\n",
              "       [6.229],\n",
              "       [6.195],\n",
              "       [6.715],\n",
              "       [5.913],\n",
              "       [6.092],\n",
              "       [6.254],\n",
              "       [5.928],\n",
              "       [6.176],\n",
              "       [6.021],\n",
              "       [5.872],\n",
              "       [5.731],\n",
              "       [5.87 ],\n",
              "       [6.004],\n",
              "       [5.961],\n",
              "       [5.856],\n",
              "       [5.879],\n",
              "       [5.986],\n",
              "       [5.613],\n",
              "       [5.693],\n",
              "       [6.431],\n",
              "       [5.637],\n",
              "       [6.458],\n",
              "       [6.326],\n",
              "       [6.372],\n",
              "       [5.822],\n",
              "       [5.757],\n",
              "       [6.335],\n",
              "       [5.942],\n",
              "       [6.454],\n",
              "       [5.857],\n",
              "       [6.151],\n",
              "       [6.174],\n",
              "       [5.019],\n",
              "       [5.403],\n",
              "       [5.468],\n",
              "       [4.903],\n",
              "       [6.13 ],\n",
              "       [5.628],\n",
              "       [4.926],\n",
              "       [5.186],\n",
              "       [5.597],\n",
              "       [6.122],\n",
              "       [5.404],\n",
              "       [5.012],\n",
              "       [5.709],\n",
              "       [6.129],\n",
              "       [6.152],\n",
              "       [5.272],\n",
              "       [6.943],\n",
              "       [6.066],\n",
              "       [6.51 ],\n",
              "       [6.25 ],\n",
              "       [7.489],\n",
              "       [7.802],\n",
              "       [8.375],\n",
              "       [5.854],\n",
              "       [6.101],\n",
              "       [7.929],\n",
              "       [5.877],\n",
              "       [6.319],\n",
              "       [6.402],\n",
              "       [5.875],\n",
              "       [5.88 ],\n",
              "       [5.572],\n",
              "       [6.416],\n",
              "       [5.859],\n",
              "       [6.546],\n",
              "       [6.02 ],\n",
              "       [6.315],\n",
              "       [6.86 ],\n",
              "       [6.98 ],\n",
              "       [7.765],\n",
              "       [6.144],\n",
              "       [7.155],\n",
              "       [6.563],\n",
              "       [5.604],\n",
              "       [6.153],\n",
              "       [7.831],\n",
              "       [6.782],\n",
              "       [6.556],\n",
              "       [7.185],\n",
              "       [6.951],\n",
              "       [6.739],\n",
              "       [7.178],\n",
              "       [6.8  ],\n",
              "       [6.604],\n",
              "       [7.875],\n",
              "       [7.287],\n",
              "       [7.107],\n",
              "       [7.274],\n",
              "       [6.975],\n",
              "       [7.135],\n",
              "       [6.162],\n",
              "       [7.61 ],\n",
              "       [7.853],\n",
              "       [8.034],\n",
              "       [5.891],\n",
              "       [6.326],\n",
              "       [5.783],\n",
              "       [6.064],\n",
              "       [5.344],\n",
              "       [5.96 ],\n",
              "       [5.404],\n",
              "       [5.807],\n",
              "       [6.375],\n",
              "       [5.412],\n",
              "       [6.182],\n",
              "       [5.888],\n",
              "       [6.642],\n",
              "       [5.951],\n",
              "       [6.373],\n",
              "       [6.951],\n",
              "       [6.164],\n",
              "       [6.879],\n",
              "       [6.618],\n",
              "       [8.266],\n",
              "       [8.725],\n",
              "       [8.04 ],\n",
              "       [7.163],\n",
              "       [7.686],\n",
              "       [6.552],\n",
              "       [5.981],\n",
              "       [7.412],\n",
              "       [8.337],\n",
              "       [8.247],\n",
              "       [6.726],\n",
              "       [6.086],\n",
              "       [6.631],\n",
              "       [7.358],\n",
              "       [6.481],\n",
              "       [6.606],\n",
              "       [6.897],\n",
              "       [6.095],\n",
              "       [6.358],\n",
              "       [6.393],\n",
              "       [5.593],\n",
              "       [5.605],\n",
              "       [6.108],\n",
              "       [6.226],\n",
              "       [6.433],\n",
              "       [6.718],\n",
              "       [6.487],\n",
              "       [6.438],\n",
              "       [6.957],\n",
              "       [8.259],\n",
              "       [6.108],\n",
              "       [5.876],\n",
              "       [7.454],\n",
              "       [8.704],\n",
              "       [7.333],\n",
              "       [6.842],\n",
              "       [7.203],\n",
              "       [7.52 ],\n",
              "       [8.398],\n",
              "       [7.327],\n",
              "       [7.206],\n",
              "       [5.56 ],\n",
              "       [7.014],\n",
              "       [8.297],\n",
              "       [7.47 ],\n",
              "       [5.92 ],\n",
              "       [5.856],\n",
              "       [6.24 ],\n",
              "       [6.538],\n",
              "       [7.691],\n",
              "       [6.758],\n",
              "       [6.854],\n",
              "       [7.267],\n",
              "       [6.826],\n",
              "       [6.482],\n",
              "       [6.812],\n",
              "       [7.82 ],\n",
              "       [6.968],\n",
              "       [7.645],\n",
              "       [7.923],\n",
              "       [7.088],\n",
              "       [6.453],\n",
              "       [6.23 ],\n",
              "       [6.209],\n",
              "       [6.315],\n",
              "       [6.565],\n",
              "       [6.861],\n",
              "       [7.148],\n",
              "       [6.63 ],\n",
              "       [6.127],\n",
              "       [6.009],\n",
              "       [6.678],\n",
              "       [6.549],\n",
              "       [5.79 ],\n",
              "       [6.345],\n",
              "       [7.041],\n",
              "       [6.871],\n",
              "       [6.59 ],\n",
              "       [6.495],\n",
              "       [6.982],\n",
              "       [7.236],\n",
              "       [6.616],\n",
              "       [7.42 ],\n",
              "       [6.849],\n",
              "       [6.635],\n",
              "       [5.972],\n",
              "       [4.973],\n",
              "       [6.122],\n",
              "       [6.023],\n",
              "       [6.266],\n",
              "       [6.567],\n",
              "       [5.705],\n",
              "       [5.914],\n",
              "       [5.782],\n",
              "       [6.382],\n",
              "       [6.113],\n",
              "       [6.426],\n",
              "       [6.376],\n",
              "       [6.041],\n",
              "       [5.708],\n",
              "       [6.415],\n",
              "       [6.431],\n",
              "       [6.312],\n",
              "       [6.083],\n",
              "       [5.868],\n",
              "       [6.333],\n",
              "       [6.144],\n",
              "       [5.706],\n",
              "       [6.031],\n",
              "       [6.316],\n",
              "       [6.31 ],\n",
              "       [6.037],\n",
              "       [5.869],\n",
              "       [5.895],\n",
              "       [6.059],\n",
              "       [5.985],\n",
              "       [5.968],\n",
              "       [7.241],\n",
              "       [6.54 ],\n",
              "       [6.696],\n",
              "       [6.874],\n",
              "       [6.014],\n",
              "       [5.898],\n",
              "       [6.516],\n",
              "       [6.635],\n",
              "       [6.939],\n",
              "       [6.49 ],\n",
              "       [6.579],\n",
              "       [5.884],\n",
              "       [6.728],\n",
              "       [5.663],\n",
              "       [5.936],\n",
              "       [6.212],\n",
              "       [6.395],\n",
              "       [6.127],\n",
              "       [6.112],\n",
              "       [6.398],\n",
              "       [6.251],\n",
              "       [5.362],\n",
              "       [5.803],\n",
              "       [8.78 ],\n",
              "       [3.561],\n",
              "       [4.963],\n",
              "       [3.863],\n",
              "       [4.97 ],\n",
              "       [6.683],\n",
              "       [7.016],\n",
              "       [6.216],\n",
              "       [5.875],\n",
              "       [4.906],\n",
              "       [4.138],\n",
              "       [7.313],\n",
              "       [6.649],\n",
              "       [6.794],\n",
              "       [6.38 ],\n",
              "       [6.223],\n",
              "       [6.968],\n",
              "       [6.545],\n",
              "       [5.536],\n",
              "       [5.52 ],\n",
              "       [4.368],\n",
              "       [5.277],\n",
              "       [4.652],\n",
              "       [5.   ],\n",
              "       [4.88 ],\n",
              "       [5.39 ],\n",
              "       [5.713],\n",
              "       [6.051],\n",
              "       [5.036],\n",
              "       [6.193],\n",
              "       [5.887],\n",
              "       [6.471],\n",
              "       [6.405],\n",
              "       [5.747],\n",
              "       [5.453],\n",
              "       [5.852],\n",
              "       [5.987],\n",
              "       [6.343],\n",
              "       [6.404],\n",
              "       [5.349],\n",
              "       [5.531],\n",
              "       [5.683],\n",
              "       [4.138],\n",
              "       [5.608],\n",
              "       [5.617],\n",
              "       [6.852],\n",
              "       [5.757],\n",
              "       [6.657],\n",
              "       [4.628],\n",
              "       [5.155],\n",
              "       [4.519],\n",
              "       [6.434],\n",
              "       [6.782],\n",
              "       [5.304],\n",
              "       [5.957],\n",
              "       [6.824],\n",
              "       [6.411],\n",
              "       [6.006],\n",
              "       [5.648],\n",
              "       [6.103],\n",
              "       [5.565],\n",
              "       [5.896],\n",
              "       [5.837],\n",
              "       [6.202],\n",
              "       [6.193],\n",
              "       [6.38 ],\n",
              "       [6.348],\n",
              "       [6.833],\n",
              "       [6.425],\n",
              "       [6.436],\n",
              "       [6.208],\n",
              "       [6.629],\n",
              "       [6.461],\n",
              "       [6.152],\n",
              "       [5.935],\n",
              "       [5.627],\n",
              "       [5.818],\n",
              "       [6.406],\n",
              "       [6.219],\n",
              "       [6.485],\n",
              "       [5.854],\n",
              "       [6.459],\n",
              "       [6.341],\n",
              "       [6.251],\n",
              "       [6.185],\n",
              "       [6.417],\n",
              "       [6.749],\n",
              "       [6.655],\n",
              "       [6.297],\n",
              "       [7.393],\n",
              "       [6.728],\n",
              "       [6.525],\n",
              "       [5.976],\n",
              "       [5.936],\n",
              "       [6.301],\n",
              "       [6.081],\n",
              "       [6.701],\n",
              "       [6.376],\n",
              "       [6.317],\n",
              "       [6.513],\n",
              "       [6.209],\n",
              "       [5.759],\n",
              "       [5.952],\n",
              "       [6.003],\n",
              "       [5.926],\n",
              "       [5.713],\n",
              "       [6.167],\n",
              "       [6.229],\n",
              "       [6.437],\n",
              "       [6.98 ],\n",
              "       [5.427],\n",
              "       [6.162],\n",
              "       [6.484],\n",
              "       [5.304],\n",
              "       [6.185],\n",
              "       [6.229],\n",
              "       [6.242],\n",
              "       [6.75 ],\n",
              "       [7.061],\n",
              "       [5.762],\n",
              "       [5.871],\n",
              "       [6.312],\n",
              "       [6.114],\n",
              "       [5.905],\n",
              "       [5.454],\n",
              "       [5.414],\n",
              "       [5.093],\n",
              "       [5.983],\n",
              "       [5.983],\n",
              "       [5.707],\n",
              "       [5.926],\n",
              "       [5.67 ],\n",
              "       [5.39 ],\n",
              "       [5.794],\n",
              "       [6.019],\n",
              "       [5.569],\n",
              "       [6.027],\n",
              "       [6.593],\n",
              "       [6.12 ],\n",
              "       [6.976],\n",
              "       [6.794],\n",
              "       [6.03 ]])"
            ]
          },
          "metadata": {
            "tags": []
          },
          "execution_count": 35
        }
      ]
    },
    {
      "cell_type": "code",
      "metadata": {
        "colab": {
          "base_uri": "https://localhost:8080/",
          "height": 279
        },
        "id": "jGe-Hk_LEGr-",
        "outputId": "0f162ee1-878e-41d8-94c3-b7f94fba441c"
      },
      "source": [
        "plt.scatter(X_rooms,Y)\n",
        "plt.ylabel('Values of house/1000($)')\n",
        "plt.xlabel('Number of rooms')\n",
        "plt.show();"
      ],
      "execution_count": null,
      "outputs": [
        {
          "output_type": "display_data",
          "data": {
            "image/png": "[encoded data removed]",
            "text/plain": [
              "<Figure size 432x288 with 1 Axes>"
            ]
          },
          "metadata": {
            "tags": [],
            "needs_background": "light"
          }
        }
      ]
    },
    {
      "cell_type": "code",
      "metadata": {
        "id": "1UiRTaorFDid"
      },
      "source": [
        "from sklearn.linear_model import LinearRegression\n",
        "reg=LinearRegression()\n",
        "reg.fit(X_rooms,Y)\n",
        "prediction_space=np.linspace(min(X_rooms),max(X_rooms)).reshape(-1,1)"
      ],
      "execution_count": null,
      "outputs": []
    },
    {
      "cell_type": "code",
      "metadata": {
        "colab": {
          "base_uri": "https://localhost:8080/",
          "height": 265
        },
        "id": "QhPz7UhYGZlB",
        "outputId": "7431731e-99d1-4701-ddfe-bb4f67d5f8f2"
      },
      "source": [
        "plt.scatter(X_rooms,Y,color='blue')\n",
        "plt.plot(prediction_space,reg.predict(prediction_space),color='black',linewidth=3)\n",
        "plt.show()"
      ],
      "execution_count": null,
      "outputs": [
        {
          "output_type": "display_data",
          "data": {
            "image/png": "[encoded data removed]",
            "text/plain": [
              "<Figure size 432x288 with 1 Axes>"
            ]
          },
          "metadata": {
            "tags": [],
            "needs_background": "light"
          }
        }
      ]
    },
    {
      "cell_type": "code",
      "metadata": {
        "colab": {
          "base_uri": "https://localhost:8080/"
        },
        "id": "cI4pZGgDG3qE",
        "outputId": "c46bcdeb-e7d1-418d-bf58-e2cbfcbad754"
      },
      "source": [
        "from sklearn.model_selection import cross_val_score\n",
        "reg=LinearRegression()\n",
        "cv_results=cross_val_score(reg,X_rooms,Y,cv=5)\n",
        "print(cv_results)"
      ],
      "execution_count": null,
      "outputs": [
        {
          "output_type": "stream",
          "text": [
            "[ 0.70708692  0.63476138  0.50385441 -0.21594318 -1.77736913]\n"
          ],
          "name": "stdout"
        }
      ]
    },
    {
      "cell_type": "code",
      "metadata": {
        "colab": {
          "base_uri": "https://localhost:8080/"
        },
        "id": "V9Q4PTcRHuLQ",
        "outputId": "93d258bb-8cc6-4576-d1e1-c6a8e9d9e477"
      },
      "source": [
        "np.mean(abs(cv_results))"
      ],
      "execution_count": null,
      "outputs": [
        {
          "output_type": "execute_result",
          "data": {
            "text/plain": [
              "0.7678030055823569"
            ]
          },
          "metadata": {
            "tags": []
          },
          "execution_count": 44
        }
      ]
    },
    {
      "cell_type": "code",
      "metadata": {
        "id": "zl4tbjZsH_2M"
      },
      "source": [],
      "execution_count": null,
      "outputs": []
    }
  ]
}