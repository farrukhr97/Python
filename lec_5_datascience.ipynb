{
  "nbformat": 4,
  "nbformat_minor": 0,
  "metadata": {
    "colab": {
      "provenance": []
    },
    "kernelspec": {
      "name": "python3",
      "display_name": "Python 3"
    }
  },
  "cells": [
    {
      "cell_type": "code",
      "metadata": {
        "colab": {
          "base_uri": "https://localhost:8080/",
          "height": 265
        },
        "id": "g9N7EJ-ojPa2",
        "outputId": "e8f60c4b-e3ad-4def-dff1-2e1613c6cb02"
      },
      "source": [
        "import matplotlib.pyplot as plt\n",
        "import numpy as np\n",
        "\n",
        "\n",
        "x = [5,7,8,7,2,17,2,9,4,11,12,9,6]\n",
        "y = [99,86,87,88,111,86,103,87,94,78,77,85,86]\n",
        "\n",
        "plt.scatter(x, y)\n",
        "plt.show()"
      ],
      "execution_count": null,
      "outputs": [
        {
          "output_type": "display_data",
          "data": {
            "image/png": "[encoded data removed]",
            "text/plain": [
              "<Figure size 432x288 with 1 Axes>"
            ]
          },
          "metadata": {
            "tags": [],
            "needs_background": "light"
          }
        }
      ]
    },
    {
      "cell_type": "code",
      "metadata": {
        "colab": {
          "base_uri": "https://localhost:8080/",
          "height": 265
        },
        "id": "BvqmMfO-pEpY",
        "outputId": "caaeea5e-1db7-42d4-dabe-27f75cfb64b2"
      },
      "source": [
        "import matplotlib.pyplot as plt\n",
        "from scipy import stats\n",
        "\n",
        "x = [5,7,8,7,2,17,2,9,4,11,12,9,6]\n",
        "y = [99,86,87,88,111,86,103,87,94,78,77,85,86]\n",
        "\n",
        "slope,intercept,r,p,std_err=stats.linregress(x,y)\n",
        "\n",
        "def myfunc(x):\n",
        "  return slope * x + intercept\n",
        "mymodel=list (map(myfunc,x))\n",
        "plt.scatter(x,y)\n",
        "plt.plot (x, mymodel)\n",
        "plt.show()\n",
        "\n"
      ],
      "execution_count": null,
      "outputs": [
        {
          "output_type": "display_data",
          "data": {
            "image/png": "[encoded data removed]",
            "text/plain": [
              "<Figure size 432x288 with 1 Axes>"
            ]
          },
          "metadata": {
            "tags": [],
            "needs_background": "light"
          }
        }
      ]
    },
    {
      "cell_type": "code",
      "metadata": {
        "colab": {
          "base_uri": "https://localhost:8080/"
        },
        "id": "nSLuAfNxsSf0",
        "outputId": "52fea182-ee03-4882-fda9-cd695131fba3"
      },
      "source": [
        "print(intercept,slope,r,p,std_err)"
      ],
      "execution_count": null,
      "outputs": [
        {
          "output_type": "stream",
          "text": [
            "103.10596026490066 -1.7512877115526118 -0.758591524376155 0.0026468739224561064 0.453536157607742\n"
          ],
          "name": "stdout"
        }
      ]
    },
    {
      "cell_type": "code",
      "metadata": {
        "colab": {
          "base_uri": "https://localhost:8080/"
        },
        "id": "jCUTahGospcT",
        "outputId": "c2c6da3d-28be-4097-882b-644937832bcf"
      },
      "source": [
        "y"
      ],
      "execution_count": null,
      "outputs": [
        {
          "output_type": "execute_result",
          "data": {
            "text/plain": [
              "[99, 86, 87, 88, 111, 86, 103, 87, 94, 78, 77, 85, 86]"
            ]
          },
          "metadata": {
            "tags": []
          },
          "execution_count": 103
        }
      ]
    },
    {
      "cell_type": "code",
      "metadata": {
        "colab": {
          "base_uri": "https://localhost:8080/"
        },
        "id": "DMSc7GOLypOc",
        "outputId": "09944ee6-3404-40bc-e618-f214ad8a04ac"
      },
      "source": [
        "myfunc(9.4)"
      ],
      "execution_count": null,
      "outputs": [
        {
          "output_type": "execute_result",
          "data": {
            "text/plain": [
              "86.64385577630611"
            ]
          },
          "metadata": {
            "tags": []
          },
          "execution_count": 104
        }
      ]
    },
    {
      "cell_type": "code",
      "metadata": {
        "colab": {
          "base_uri": "https://localhost:8080/"
        },
        "id": "FwTtU_pazJD1",
        "outputId": "e833d755-6a74-4bf0-b93c-39513992c3e7"
      },
      "source": [
        "sum_of_square=0\n",
        "for i in range(len(y)):\n",
        "  sum_of_square=sum_of_square + ((y[i]-mymodel[i])** 2)\n",
        "(sum_of_square** 0.5) /len(y)"
      ],
      "execution_count": null,
      "outputs": [
        {
          "output_type": "execute_result",
          "data": {
            "text/plain": [
              "1.673084811653792"
            ]
          },
          "metadata": {
            "tags": []
          },
          "execution_count": 125
        }
      ]
    },
    {
      "cell_type": "code",
      "metadata": {
        "colab": {
          "base_uri": "https://localhost:8080/"
        },
        "id": "VKvP7VBE7uuB",
        "outputId": "d9cb4032-072f-4878-bbe7-043a10412553"
      },
      "source": [
        "'''sumofabs=0\n",
        "for i in range(len(y)):\n",
        "  sumofabs=sumofabs +abs(y[i]-mymodel[i])\n",
        "\n",
        "(sumofabs)/len(y)'''"
      ],
      "execution_count": null,
      "outputs": [
        {
          "output_type": "execute_result",
          "data": {
            "text/plain": [
              "4.939944529348507"
            ]
          },
          "metadata": {
            "tags": []
          },
          "execution_count": 28
        }
      ]
    },
    {
      "cell_type": "code",
      "metadata": {
        "colab": {
          "base_uri": "https://localhost:8080/"
        },
        "id": "qFiZ8_U7FYCC",
        "outputId": "110104f6-fda9-4a42-df6f-ad1b0b612228"
      },
      "source": [
        "sum_of_square=0\n",
        "for i in range(len(y)):\n",
        "  sum_of_square=sum_of_square + ((y[i]-mymodel[i])** 2)\n",
        "(sum_of_square ** 0.5 )/len(y)"
      ],
      "execution_count": null,
      "outputs": [
        {
          "output_type": "execute_result",
          "data": {
            "text/plain": [
              "1.673084811653792"
            ]
          },
          "metadata": {
            "tags": []
          },
          "execution_count": 124
        }
      ]
    },
    {
      "cell_type": "code",
      "metadata": {
        "colab": {
          "base_uri": "https://localhost:8080/"
        },
        "id": "nZLwMvDxGFky",
        "outputId": "2abc0f5e-6ec2-4381-bdb6-24fcf5d79214"
      },
      "source": [
        "sum_of_abs=0\n",
        "for i in range(len(y)):\n",
        "  sum_of_abs=sum_of_abs+ abs(y[i]-mymodel[i])\n",
        "sum_of_abs/len(y)"
      ],
      "execution_count": null,
      "outputs": [
        {
          "output_type": "execute_result",
          "data": {
            "text/plain": [
              "21.37783255614558"
            ]
          },
          "metadata": {
            "tags": []
          },
          "execution_count": 143
        }
      ]
    },
    {
      "cell_type": "code",
      "metadata": {
        "id": "BVqVHBj-HG7P",
        "colab": {
          "base_uri": "https://localhost:8080/"
        },
        "outputId": "0c2ba27b-42c2-410f-9326-e401e9d4d8b3"
      },
      "source": [
        "np.sum(np.power(np.subtract(y,mymodel),2))/len(y)"
      ],
      "execution_count": null,
      "outputs": [
        {
          "output_type": "execute_result",
          "data": {
            "text/plain": [
              "36.38976623082586"
            ]
          },
          "metadata": {
            "tags": []
          },
          "execution_count": 32
        }
      ]
    },
    {
      "cell_type": "code",
      "metadata": {
        "colab": {
          "base_uri": "https://localhost:8080/"
        },
        "id": "A988931of7j_",
        "outputId": "e8fd61e1-2968-4324-bb48-03de7e420e19"
      },
      "source": [
        "sum_of_abs=0\n",
        "for i in range(len(y)):\n",
        "  sum_of_abs=sum_of_abs+ abs(y[i]-mymodel[i])\n",
        "sum_of_abs/len(y)\n"
      ],
      "execution_count": null,
      "outputs": [
        {
          "output_type": "execute_result",
          "data": {
            "text/plain": [
              "21.37783255614558"
            ]
          },
          "metadata": {
            "tags": []
          },
          "execution_count": 144
        }
      ]
    },
    {
      "cell_type": "code",
      "metadata": {
        "colab": {
          "base_uri": "https://localhost:8080/"
        },
        "id": "20FLGH-zoIF6",
        "outputId": "74fc53b4-3694-4533-c5ef-4fd4073f0e0b"
      },
      "source": [
        "sum_of_abs=0\n",
        "for i in range(len(y)):\n",
        "  sum_of_abs=sum_of_abs + abs(y[i]-mymodel[i])\n",
        "sum_of_abs/len(y)"
      ],
      "execution_count": null,
      "outputs": [
        {
          "output_type": "execute_result",
          "data": {
            "text/plain": [
              "21.37783255614558"
            ]
          },
          "metadata": {
            "tags": []
          },
          "execution_count": 138
        }
      ]
    },
    {
      "cell_type": "code",
      "metadata": {
        "colab": {
          "base_uri": "https://localhost:8080/"
        },
        "id": "EU8QY1V6pDah",
        "outputId": "afba2ae5-820d-4edf-a222-61dcb503d665"
      },
      "source": [
        "np.sum(np.power(np.subtract(y,mymodel),2))/len(y)"
      ],
      "execution_count": null,
      "outputs": [
        {
          "output_type": "execute_result",
          "data": {
            "text/plain": [
              "36.38976623082586"
            ]
          },
          "metadata": {
            "tags": []
          },
          "execution_count": 118
        }
      ]
    },
    {
      "cell_type": "code",
      "metadata": {
        "colab": {
          "base_uri": "https://localhost:8080/"
        },
        "id": "RY9ow-4uq9q_",
        "outputId": "f4c42853-fe2b-4ea7-eced-0dc08fbe8697"
      },
      "source": [
        "sum_of_square=0\n",
        "for i in range(len(y)):\n",
        "  sum_of_square=sum_of_square +((y[i]-mymodel[i])**2)\n",
        "(sum_of_square)/len(y)"
      ],
      "execution_count": null,
      "outputs": [
        {
          "output_type": "execute_result",
          "data": {
            "text/plain": [
              "36.38976623082586"
            ]
          },
          "metadata": {
            "tags": []
          },
          "execution_count": 130
        }
      ]
    },
    {
      "cell_type": "code",
      "metadata": {
        "colab": {
          "base_uri": "https://localhost:8080/"
        },
        "id": "P6gfy-UNw2oD",
        "outputId": "67f475c7-b7d4-4a36-8f6a-5241420749a0"
      },
      "source": [
        "sum_of_abs=0\n",
        "for i in range(len(y)):\n",
        "  sum_of_abs=sum_of_abs+abs((y[i]-mymodel[i]))\n",
        "(sum_of_square)/len(y)"
      ],
      "execution_count": null,
      "outputs": [
        {
          "output_type": "execute_result",
          "data": {
            "text/plain": [
              "23.65334805003681"
            ]
          },
          "metadata": {
            "tags": []
          },
          "execution_count": 142
        }
      ]
    },
    {
      "cell_type": "code",
      "metadata": {
        "colab": {
          "base_uri": "https://localhost:8080/",
          "height": 265
        },
        "id": "QAzokQUHx1cs",
        "outputId": "03c4ec46-a9d0-488b-f5f1-41ed1aadcad0"
      },
      "source": [
        "import matplotlib.pyplot as plt\n",
        "from scipy import stats\n",
        "\n",
        "x = [89,43,36,36,95,10,66,34,38,20,26,29,48,64,6,5,36,66,72,40]\n",
        "y = [21,46,3,35,67,95,53,72,58,10,26,34,90,33,38,20,56,2,47,15]\n",
        "\n",
        "slope, intercept, r, p, std_err = stats.linregress(x, y)\n",
        "\n",
        "def myfunc(x):\n",
        "  return slope * x + intercept\n",
        "\n",
        "mymodel = list(map(myfunc, x))\n",
        "\n",
        "plt.scatter(x, y)\n",
        "plt.plot(x, mymodel)\n",
        "plt.show()"
      ],
      "execution_count": null,
      "outputs": [
        {
          "output_type": "display_data",
          "data": {
            "image/png": "[encoded data removed]",
            "text/plain": [
              "<Figure size 432x288 with 1 Axes>"
            ]
          },
          "metadata": {
            "tags": [],
            "needs_background": "light"
          }
        }
      ]
    },
    {
      "cell_type": "code",
      "metadata": {
        "colab": {
          "base_uri": "https://localhost:8080/"
        },
        "id": "qCTr11Ea0Det",
        "outputId": "6eba3f04-38cc-4f6f-ba7e-ef55904869b8"
      },
      "source": [
        "print(slope,intercept,r,p,std_err)"
      ],
      "execution_count": null,
      "outputs": [
        {
          "output_type": "stream",
          "text": [
            "0.01391658139845263 40.452282828936454 0.01331814154297491 0.955558800440106 0.24627150586388075\n"
          ],
          "name": "stdout"
        }
      ]
    },
    {
      "cell_type": "code",
      "metadata": {
        "colab": {
          "base_uri": "https://localhost:8080/",
          "height": 265
        },
        "id": "glRaR3SG0RVq",
        "outputId": "46f2db12-b109-4aea-86b6-1e903e15ca7e"
      },
      "source": [
        "\n",
        "\n",
        "x = [1,2,3,5,6,7,8,9,10,12,13,14,15,16,18,19,21,22]\n",
        "y = [100,90,80,60,60,55,60,65,70,70,75,76,78,79,90,99,99,100]\n",
        "\n",
        "plt.scatter(x, y)\n",
        "plt.show()"
      ],
      "execution_count": null,
      "outputs": [
        {
          "output_type": "display_data",
          "data": {
            "image/png": "[encoded data removed]",
            "text/plain": [
              "<Figure size 432x288 with 1 Axes>"
            ]
          },
          "metadata": {
            "tags": [],
            "needs_background": "light"
          }
        }
      ]
    },
    {
      "cell_type": "code",
      "metadata": {
        "colab": {
          "base_uri": "https://localhost:8080/",
          "height": 265
        },
        "id": "M6B-Z80G5AJP",
        "outputId": "43fb6695-198b-4d74-ce35-b1bd58f87e0d"
      },
      "source": [
        "\n",
        "\n",
        "x = [1,2,3,5,6,7,8,9,10,12,13,14,15,16,18,19,21,22]\n",
        "y = [100,90,80,60,60,55,60,65,70,70,75,76,78,79,90,99,99,100]\n",
        "\n",
        "mymodel = np.poly1d(np.polyfit(x, y, 15))\n",
        "\n",
        "myline = np.linspace(1, 22, 10)\n",
        "\n",
        "#plt.scatter(x, y)\n",
        "plt.plot(myline, mymodel(myline))\n",
        "plt.show()"
      ],
      "execution_count": null,
      "outputs": [
        {
          "output_type": "display_data",
          "data": {
            "image/png": "[encoded data removed]",
            "text/plain": [
              "<Figure size 432x288 with 1 Axes>"
            ]
          },
          "metadata": {
            "tags": [],
            "needs_background": "light"
          }
        }
      ]
    },
    {
      "cell_type": "code",
      "metadata": {
        "colab": {
          "base_uri": "https://localhost:8080/"
        },
        "id": "37g8taC35C-U",
        "outputId": "2077c660-19d1-43b9-d1ac-892a59f01be5"
      },
      "source": [
        "myline"
      ],
      "execution_count": null,
      "outputs": [
        {
          "output_type": "execute_result",
          "data": {
            "text/plain": [
              "array([ 1.        ,  3.33333333,  5.66666667,  8.        , 10.33333333,\n",
              "       12.66666667, 15.        , 17.33333333, 19.66666667, 22.        ])"
            ]
          },
          "metadata": {
            "tags": []
          },
          "execution_count": 154
        }
      ]
    },
    {
      "cell_type": "code",
      "metadata": {
        "colab": {
          "base_uri": "https://localhost:8080/",
          "height": 276
        },
        "id": "VkGYduh_7__-",
        "outputId": "cadfc276-86e0-4bb6-9cd4-b06d367d4cb9"
      },
      "source": [
        "\n",
        "x = [89,43,36,36,95,10,66,34,38,20,26,29,48,64,6,5,36,66,72,40]\n",
        "y = [21,46,3,35,67,95,53,72,58,10,26,34,90,33,38,20,56,2,47,15]\n",
        "\n",
        "mymodel = np.poly1d(np.polyfit(x, y, 15))\n",
        "\n",
        "myline = np.linspace(2, 95, 100)\n",
        "\n",
        "plt.scatter(x, y)\n",
        "plt.plot(myline, mymodel(myline))\n",
        "plt.show()"
      ],
      "execution_count": null,
      "outputs": [
        {
          "output_type": "display_data",
          "data": {
            "image/png": "[encoded data removed]",
            "text/plain": [
              "<Figure size 432x288 with 1 Axes>"
            ]
          },
          "metadata": {
            "tags": [],
            "needs_background": "light"
          }
        }
      ]
    },
    {
      "cell_type": "code",
      "metadata": {
        "colab": {
          "base_uri": "https://localhost:8080/"
        },
        "id": "BHh8EhrQ9cj0",
        "outputId": "0e65571c-6f47-4bd2-ec2b-4d7b306012d0"
      },
      "source": [
        "import pandas as pd\n",
        "from sklearn import  linear_model\n",
        "df=pd.read_csv(\"/content/cars(1).csv\")\n",
        "X=df[[\"Weight\",\"Volume\"]]\n",
        "y=df[\"CO2\"]\n",
        "regr= linear_model.LinearRegression()\n",
        "regr.fit(X,y)\n",
        "\n",
        "predictedCO2 = regr.predict([[2300,1300]])\n",
        "print(predictedCO2)"
      ],
      "execution_count": null,
      "outputs": [
        {
          "output_type": "stream",
          "text": [
            "[107.2087328]\n"
          ],
          "name": "stdout"
        }
      ]
    },
    {
      "cell_type": "code",
      "metadata": {
        "colab": {
          "base_uri": "https://localhost:8080/"
        },
        "id": "szPdVD-_CIC6",
        "outputId": "fc748e6d-967d-423f-eb0b-be9af26c403d"
      },
      "source": [
        "regr"
      ],
      "execution_count": null,
      "outputs": [
        {
          "output_type": "execute_result",
          "data": {
            "text/plain": [
              "LinearRegression(copy_X=True, fit_intercept=True, n_jobs=None, normalize=False)"
            ]
          },
          "metadata": {
            "tags": []
          },
          "execution_count": 5
        }
      ]
    },
    {
      "cell_type": "code",
      "metadata": {
        "id": "RcJZ4A7ZDcdB"
      },
      "source": [],
      "execution_count": null,
      "outputs": []
    }
  ]
}