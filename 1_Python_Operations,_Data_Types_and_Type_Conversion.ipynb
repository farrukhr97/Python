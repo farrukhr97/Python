{
  "nbformat": 4,
  "nbformat_minor": 0,
  "metadata": {
    "colab": {
      "provenance": []
    },
    "kernelspec": {
      "name": "python3",
      "display_name": "Python 3"
    },
    "language_info": {
      "name": "python"
    }
  },
  "cells": [
    {
      "cell_type": "code",
      "execution_count": null,
      "metadata": {
        "colab": {
          "base_uri": "https://localhost:8080/"
        },
        "id": "w9xEjsxfy3_k",
        "outputId": "c0438ad8-cddf-485e-96d1-330645343a5e"
      },
      "outputs": [
        {
          "name": "stdout",
          "output_type": "stream",
          "text": [
            "Please enter first input\t4\n",
            "Please enter second input\t5\n"
          ]
        }
      ],
      "source": [
        "#Create a basic python calculator that also performs modulo and exponential operations on two variables.\n",
        "\n",
        "#creating two variables\n",
        "a = input(\"Please enter first input\\t\")\n",
        "b = input(\"Please enter second input\\t\")"
      ]
    },
    {
      "cell_type": "code",
      "source": [
        "#in order to solve for x4, we rearrange the function to make x4 the subject\n",
        "#so if we rearrange the equation for x4 we get,\n",
        "#x4 = ((x5-x1+x2)/(5*(4*x3)))**(1/3)\n",
        "\n",
        "x1= float (input(\"Enter x1 value = \"))\n",
        "x2= float (input(\"Enter x2 value = \"))\n",
        "x3= float (input(\"Enter x3 value = \"))\n",
        "x5= float (input(\"Enter x5 value = \"))\n",
        "x4= ((x5-x1+x2)/(5*(4*x3)))**(1/3)\n",
        "print(\"x4 Value = \", x4)"
      ],
      "metadata": {
        "colab": {
          "base_uri": "https://localhost:8080/"
        },
        "id": "jlB1TUL2V-Jb",
        "outputId": "c97b88f6-ae3d-4c91-fc18-70b883bc54c7"
      },
      "execution_count": null,
      "outputs": [
        {
          "output_type": "stream",
          "name": "stdout",
          "text": [
            "Enter x1 value = 1\n",
            "Enter x2 value = 2\n",
            "Enter x3 value = 3\n",
            "Enter x5 value = 5\n",
            "x4 Value =  0.4641588833612779\n"
          ]
        }
      ]
    },
    {
      "cell_type": "code",
      "source": [
        "print(\"Data Type of 'a' is\\t\", type(a))\n",
        "print(\"Data Type of 'b' is\\t\", type(b))"
      ],
      "metadata": {
        "colab": {
          "base_uri": "https://localhost:8080/"
        },
        "id": "d_5h223pEVhS",
        "outputId": "0fdd0565-b09c-4d63-c999-634945e5ebb7"
      },
      "execution_count": null,
      "outputs": [
        {
          "output_type": "stream",
          "name": "stdout",
          "text": [
            "Data Type of 'a' is\t <class 'str'>\n",
            "Data Type of 'b' is\t <class 'str'>\n"
          ]
        }
      ]
    },
    {
      "cell_type": "code",
      "source": [
        "#Type conversion\n",
        "a = int(a)\n",
        "b = int(b)\n",
        "print(\"Converting 'a' to String\\t\", a)\n",
        "print(\"Converting 'b' to String\\t\", b)"
      ],
      "metadata": {
        "colab": {
          "base_uri": "https://localhost:8080/"
        },
        "id": "4AFl0nrREhi8",
        "outputId": "17932a19-8806-46fe-ad7c-1256ffa519d2"
      },
      "execution_count": null,
      "outputs": [
        {
          "output_type": "stream",
          "name": "stdout",
          "text": [
            "Converting 'a' to String\t 4\n",
            "Converting 'b' to String\t 5\n"
          ]
        }
      ]
    },
    {
      "cell_type": "code",
      "source": [
        "type(a)\n",
        "type(b)"
      ],
      "metadata": {
        "colab": {
          "base_uri": "https://localhost:8080/"
        },
        "id": "ji0ABY-6ExyD",
        "outputId": "db5a6165-9925-4bbb-d0fb-918e9e0b62cf"
      },
      "execution_count": null,
      "outputs": [
        {
          "output_type": "execute_result",
          "data": {
            "text/plain": [
              "int"
            ]
          },
          "metadata": {},
          "execution_count": 14
        }
      ]
    },
    {
      "cell_type": "code",
      "source": [
        "print(\"Sum of the numbers is\\t\", a+b)\n",
        "print(\"Subtraction of the numbers is\\t\", a-b)\n",
        "print(\"Multiplication of the numbers is\\t\", a*b)\n",
        "print(\"Divison of the numbers is\\t\", a/b)\n",
        "print(\"Exponent of the number a wrt to b is\\t\", a**b)\n",
        "print(\"Modulo of the numbers is\\t\", a%b)"
      ],
      "metadata": {
        "colab": {
          "base_uri": "https://localhost:8080/"
        },
        "id": "HSYam4hKDnbx",
        "outputId": "1d1ae7dc-8a5b-475d-816b-fc0f439867fe"
      },
      "execution_count": null,
      "outputs": [
        {
          "output_type": "stream",
          "name": "stdout",
          "text": [
            "Sum of the numbers is\t 9\n",
            "Subtraction of the numbers is\t -1\n",
            "Multiplication of the numbers is\t 20\n",
            "Divison of the numbers is\t 0.8\n",
            "Exponent of the number a wrt to b is\t 1024\n",
            "Modulo of the numbers is\t 4\n"
          ]
        }
      ]
    },
    {
      "cell_type": "code",
      "source": [
        "# Conacatenate two strings\n",
        "#creating two variables\n",
        "a = input(\"Please enter first input\\t\")\n",
        "b = input(\"Please enter second input\\t\")"
      ],
      "metadata": {
        "colab": {
          "base_uri": "https://localhost:8080/"
        },
        "id": "rcxL6l2MEMFF",
        "outputId": "2c0b3093-d29e-45cd-a68a-6483f02f230f"
      },
      "execution_count": null,
      "outputs": [
        {
          "name": "stdout",
          "output_type": "stream",
          "text": [
            "Please enter first input\tMaliha\n",
            "Please enter second input\tNadeem\n"
          ]
        }
      ]
    },
    {
      "cell_type": "code",
      "source": [
        "a+b"
      ],
      "metadata": {
        "colab": {
          "base_uri": "https://localhost:8080/",
          "height": 35
        },
        "id": "pmo_5AGZIk97",
        "outputId": "5613ee6e-31b8-4ba5-9bed-57c70f4c78c9"
      },
      "execution_count": null,
      "outputs": [
        {
          "output_type": "execute_result",
          "data": {
            "text/plain": [
              "'MalihaNadeem'"
            ],
            "application/vnd.google.colaboratory.intrinsic+json": {
              "type": "string"
            }
          },
          "metadata": {},
          "execution_count": 21
        }
      ]
    },
    {
      "cell_type": "code",
      "source": [
        "# Prompt input from a user and calculate the sum of the floating values.\n",
        "\n",
        "a=float(input(\"Enter first number\"))\n",
        "b=float(input(\"Enter second number\"))\n",
        "c=a+b\n",
        "print(c)"
      ],
      "metadata": {
        "id": "Eh4UFva-Ip12",
        "colab": {
          "base_uri": "https://localhost:8080/"
        },
        "outputId": "2b442db3-b274-422f-92d5-2ef392e454ef"
      },
      "execution_count": null,
      "outputs": [
        {
          "output_type": "stream",
          "name": "stdout",
          "text": [
            "Enter first number2.5\n",
            "Enter second number2.5\n",
            "5.0\n"
          ]
        }
      ]
    },
    {
      "cell_type": "code",
      "source": [
        "# Concatenate two integer strings\n",
        "a= input(\"enter value 1\\t\")\n",
        "b = input(\"enter value 2\\t\")\n",
        "print(\"Answer is \\t\",a+b)"
      ],
      "metadata": {
        "id": "3rjSxcmII0UG",
        "colab": {
          "base_uri": "https://localhost:8080/"
        },
        "outputId": "b19ec83a-6f54-4b26-b7b8-e68ea5135691"
      },
      "execution_count": null,
      "outputs": [
        {
          "output_type": "stream",
          "name": "stdout",
          "text": [
            "enter value 1\t10\n",
            "enter value 2\t20\n",
            "Answer is \t 1020\n"
          ]
        }
      ]
    },
    {
      "cell_type": "code",
      "source": [
        "#Assignment\n",
        "i=0\n",
        "x=[]\n",
        "while (i<4):\n",
        "  a = float(input(\"Enter an input\\t\"))\n",
        "  x.append(a)\n",
        "  i=i+1\n",
        "\n",
        "#list start from 0 so x1 will be x[0] and so on\n",
        "# given equation = x1- x2 + 4x3 * 5x4 - x5 = 0\n",
        "# x[1] -> x[0]\n",
        "# x[2] -> x[1]\n",
        "# x[3] -> x[2]\n",
        "# x[5] -> x[3]\n",
        "# x4 -> variable and nothing to do with the list\n",
        "#plug in values and solve.\n",
        "\n"
      ],
      "metadata": {
        "colab": {
          "base_uri": "https://localhost:8080/"
        },
        "id": "CY69SlsvtLbT",
        "outputId": "454f1988-c8e1-44a3-b707-5d9003bcc782"
      },
      "execution_count": null,
      "outputs": [
        {
          "name": "stdout",
          "output_type": "stream",
          "text": [
            "Enter an input\t3\n",
            "Enter an input\t2\n",
            "Enter an input\t4\n",
            "Enter an input\t2\n"
          ]
        }
      ]
    },
    {
      "cell_type": "code",
      "source": [],
      "metadata": {
        "id": "XHsR-3HUtpW3"
      },
      "execution_count": null,
      "outputs": []
    }
  ]
}